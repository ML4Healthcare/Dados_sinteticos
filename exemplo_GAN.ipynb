{
  "nbformat": 4,
  "nbformat_minor": 0,
  "metadata": {
    "colab": {
      "name": "TopicosHLFINAL.ipynb",
      "provenance": []
    },
    "kernelspec": {
      "name": "python3",
      "display_name": "Python 3"
    },
    "language_info": {
      "name": "python"
    }
  },
  "cells": [
    {
      "cell_type": "code",
      "metadata": {
        "colab": {
          "base_uri": "https://localhost:8080/"
        },
        "id": "e_1GigfVA8se",
        "outputId": "3688ed20-76c5-45f8-a652-d8b5bf075099"
      },
      "source": [
        "!pip install numpy \n",
        "!pip install pandas\n",
        "!pip install tensorflow"
      ],
      "execution_count": null,
      "outputs": [
        {
          "output_type": "stream",
          "text": [
            "Requirement already satisfied: numpy in /usr/local/lib/python3.7/dist-packages (1.19.5)\n",
            "Requirement already satisfied: pandas in /usr/local/lib/python3.7/dist-packages (1.1.5)\n",
            "Requirement already satisfied: python-dateutil>=2.7.3 in /usr/local/lib/python3.7/dist-packages (from pandas) (2.8.1)\n",
            "Requirement already satisfied: numpy>=1.15.4 in /usr/local/lib/python3.7/dist-packages (from pandas) (1.19.5)\n",
            "Requirement already satisfied: pytz>=2017.2 in /usr/local/lib/python3.7/dist-packages (from pandas) (2018.9)\n",
            "Requirement already satisfied: six>=1.5 in /usr/local/lib/python3.7/dist-packages (from python-dateutil>=2.7.3->pandas) (1.15.0)\n",
            "Requirement already satisfied: tensorflow in /usr/local/lib/python3.7/dist-packages (2.5.0)\n",
            "Requirement already satisfied: wheel~=0.35 in /usr/local/lib/python3.7/dist-packages (from tensorflow) (0.36.2)\n",
            "Requirement already satisfied: absl-py~=0.10 in /usr/local/lib/python3.7/dist-packages (from tensorflow) (0.12.0)\n",
            "Requirement already satisfied: typing-extensions~=3.7.4 in /usr/local/lib/python3.7/dist-packages (from tensorflow) (3.7.4.3)\n",
            "Requirement already satisfied: grpcio~=1.34.0 in /usr/local/lib/python3.7/dist-packages (from tensorflow) (1.34.1)\n",
            "Requirement already satisfied: wrapt~=1.12.1 in /usr/local/lib/python3.7/dist-packages (from tensorflow) (1.12.1)\n",
            "Requirement already satisfied: tensorboard~=2.5 in /usr/local/lib/python3.7/dist-packages (from tensorflow) (2.5.0)\n",
            "Requirement already satisfied: astunparse~=1.6.3 in /usr/local/lib/python3.7/dist-packages (from tensorflow) (1.6.3)\n",
            "Requirement already satisfied: tensorflow-estimator<2.6.0,>=2.5.0rc0 in /usr/local/lib/python3.7/dist-packages (from tensorflow) (2.5.0)\n",
            "Requirement already satisfied: numpy~=1.19.2 in /usr/local/lib/python3.7/dist-packages (from tensorflow) (1.19.5)\n",
            "Requirement already satisfied: keras-nightly~=2.5.0.dev in /usr/local/lib/python3.7/dist-packages (from tensorflow) (2.5.0.dev2021032900)\n",
            "Requirement already satisfied: opt-einsum~=3.3.0 in /usr/local/lib/python3.7/dist-packages (from tensorflow) (3.3.0)\n",
            "Requirement already satisfied: gast==0.4.0 in /usr/local/lib/python3.7/dist-packages (from tensorflow) (0.4.0)\n",
            "Requirement already satisfied: h5py~=3.1.0 in /usr/local/lib/python3.7/dist-packages (from tensorflow) (3.1.0)\n",
            "Requirement already satisfied: protobuf>=3.9.2 in /usr/local/lib/python3.7/dist-packages (from tensorflow) (3.12.4)\n",
            "Requirement already satisfied: keras-preprocessing~=1.1.2 in /usr/local/lib/python3.7/dist-packages (from tensorflow) (1.1.2)\n",
            "Requirement already satisfied: termcolor~=1.1.0 in /usr/local/lib/python3.7/dist-packages (from tensorflow) (1.1.0)\n",
            "Requirement already satisfied: six~=1.15.0 in /usr/local/lib/python3.7/dist-packages (from tensorflow) (1.15.0)\n",
            "Requirement already satisfied: flatbuffers~=1.12.0 in /usr/local/lib/python3.7/dist-packages (from tensorflow) (1.12)\n",
            "Requirement already satisfied: google-pasta~=0.2 in /usr/local/lib/python3.7/dist-packages (from tensorflow) (0.2.0)\n",
            "Requirement already satisfied: werkzeug>=0.11.15 in /usr/local/lib/python3.7/dist-packages (from tensorboard~=2.5->tensorflow) (1.0.1)\n",
            "Requirement already satisfied: google-auth<2,>=1.6.3 in /usr/local/lib/python3.7/dist-packages (from tensorboard~=2.5->tensorflow) (1.31.0)\n",
            "Requirement already satisfied: tensorboard-data-server<0.7.0,>=0.6.0 in /usr/local/lib/python3.7/dist-packages (from tensorboard~=2.5->tensorflow) (0.6.1)\n",
            "Requirement already satisfied: requests<3,>=2.21.0 in /usr/local/lib/python3.7/dist-packages (from tensorboard~=2.5->tensorflow) (2.23.0)\n",
            "Requirement already satisfied: tensorboard-plugin-wit>=1.6.0 in /usr/local/lib/python3.7/dist-packages (from tensorboard~=2.5->tensorflow) (1.8.0)\n",
            "Requirement already satisfied: google-auth-oauthlib<0.5,>=0.4.1 in /usr/local/lib/python3.7/dist-packages (from tensorboard~=2.5->tensorflow) (0.4.4)\n",
            "Requirement already satisfied: setuptools>=41.0.0 in /usr/local/lib/python3.7/dist-packages (from tensorboard~=2.5->tensorflow) (57.0.0)\n",
            "Requirement already satisfied: markdown>=2.6.8 in /usr/local/lib/python3.7/dist-packages (from tensorboard~=2.5->tensorflow) (3.3.4)\n",
            "Requirement already satisfied: cached-property; python_version < \"3.8\" in /usr/local/lib/python3.7/dist-packages (from h5py~=3.1.0->tensorflow) (1.5.2)\n",
            "Requirement already satisfied: rsa<5,>=3.1.4; python_version >= \"3.6\" in /usr/local/lib/python3.7/dist-packages (from google-auth<2,>=1.6.3->tensorboard~=2.5->tensorflow) (4.7.2)\n",
            "Requirement already satisfied: cachetools<5.0,>=2.0.0 in /usr/local/lib/python3.7/dist-packages (from google-auth<2,>=1.6.3->tensorboard~=2.5->tensorflow) (4.2.2)\n",
            "Requirement already satisfied: pyasn1-modules>=0.2.1 in /usr/local/lib/python3.7/dist-packages (from google-auth<2,>=1.6.3->tensorboard~=2.5->tensorflow) (0.2.8)\n",
            "Requirement already satisfied: urllib3!=1.25.0,!=1.25.1,<1.26,>=1.21.1 in /usr/local/lib/python3.7/dist-packages (from requests<3,>=2.21.0->tensorboard~=2.5->tensorflow) (1.24.3)\n",
            "Requirement already satisfied: chardet<4,>=3.0.2 in /usr/local/lib/python3.7/dist-packages (from requests<3,>=2.21.0->tensorboard~=2.5->tensorflow) (3.0.4)\n",
            "Requirement already satisfied: idna<3,>=2.5 in /usr/local/lib/python3.7/dist-packages (from requests<3,>=2.21.0->tensorboard~=2.5->tensorflow) (2.10)\n",
            "Requirement already satisfied: certifi>=2017.4.17 in /usr/local/lib/python3.7/dist-packages (from requests<3,>=2.21.0->tensorboard~=2.5->tensorflow) (2021.5.30)\n",
            "Requirement already satisfied: requests-oauthlib>=0.7.0 in /usr/local/lib/python3.7/dist-packages (from google-auth-oauthlib<0.5,>=0.4.1->tensorboard~=2.5->tensorflow) (1.3.0)\n",
            "Requirement already satisfied: importlib-metadata; python_version < \"3.8\" in /usr/local/lib/python3.7/dist-packages (from markdown>=2.6.8->tensorboard~=2.5->tensorflow) (4.5.0)\n",
            "Requirement already satisfied: pyasn1>=0.1.3 in /usr/local/lib/python3.7/dist-packages (from rsa<5,>=3.1.4; python_version >= \"3.6\"->google-auth<2,>=1.6.3->tensorboard~=2.5->tensorflow) (0.4.8)\n",
            "Requirement already satisfied: oauthlib>=3.0.0 in /usr/local/lib/python3.7/dist-packages (from requests-oauthlib>=0.7.0->google-auth-oauthlib<0.5,>=0.4.1->tensorboard~=2.5->tensorflow) (3.1.1)\n",
            "Requirement already satisfied: zipp>=0.5 in /usr/local/lib/python3.7/dist-packages (from importlib-metadata; python_version < \"3.8\"->markdown>=2.6.8->tensorboard~=2.5->tensorflow) (3.4.1)\n"
          ],
          "name": "stdout"
        }
      ]
    },
    {
      "cell_type": "code",
      "metadata": {
        "id": "Fr6ehpmUZ3J7"
      },
      "source": [
        "import numpy as np\n",
        "import pandas as pd\n",
        "import tensorflow as tf\n",
        "import time\n",
        "import matplotlib.pyplot as plt"
      ],
      "execution_count": null,
      "outputs": []
    },
    {
      "cell_type": "code",
      "metadata": {
        "id": "EmOedi03DlxC"
      },
      "source": [
        "EPOCHS = 100001\n",
        "BATCH_SIZE = 512"
      ],
      "execution_count": null,
      "outputs": []
    },
    {
      "cell_type": "code",
      "metadata": {
        "id": "UHzlajlMh87h"
      },
      "source": [
        "# D(X) -> Resposta do discriminador\n",
        "def get_y(x):\n",
        "    return 10 + x*x\n",
        "\n",
        "# Dado original \n",
        "def sample_data(n=10000, scale=100):\n",
        "    data = []\n",
        "\n",
        "    x = scale*(np.random.random_sample((n,))-0.5)\n",
        "\n",
        "    for i in range(n):\n",
        "        yi = get_y(x[i])\n",
        "        data.append([x[i], yi])\n",
        "\n",
        "    return np.array(data)"
      ],
      "execution_count": null,
      "outputs": []
    },
    {
      "cell_type": "code",
      "metadata": {
        "id": "g2S1pdaHiM77"
      },
      "source": [
        "# Ruído Z ; G(Z) é dado gerado pela rede neural treinada a partir do feedback do discriminador \n",
        "def sample_Z(m, n):\n",
        "    return np.random.uniform(-1., 1., size=[m, n])"
      ],
      "execution_count": null,
      "outputs": []
    },
    {
      "cell_type": "code",
      "metadata": {
        "id": "u_nMneBDj_zN"
      },
      "source": [
        "def generator(hsize=[128, 128],reuse=False):\n",
        "    #with tf.variable_scope(\"GAN/Generator\",reuse=reuse):\n",
        "    # Cria o modelo / Funciona como stack de opercoes\n",
        "    model =  tf.keras.Sequential()\n",
        "    #model.add(tf.keras.layers.input())\n",
        "    # Cria primeira camada da rede neural usando os input Z / layer.dense cria uma rede neural do tipo densa \n",
        "    model.add(tf.keras.layers.Dense(hsize[0], activation=tf.keras.layers.LeakyReLU(),input_shape=(BATCH_SIZE,2)))\n",
        "    # Cria a segunda camada da rede usando o input h1(Z)\n",
        "    model.add( tf.keras.layers.Dense(hsize[1],activation=tf.keras.layers.LeakyReLU()))\n",
        "    # Cria a de saida camada da rede usando o input h2(h1(Z))\n",
        "    model.add(tf.keras.layers.Dense(2)) \n",
        "    return model"
      ],
      "execution_count": null,
      "outputs": []
    },
    {
      "cell_type": "code",
      "metadata": {
        "id": "iPJkDlIpraWm"
      },
      "source": [
        "def discriminator(hsize=[128, 128],reuse=False):\n",
        "    # Cria o modelo / Funciona como stack de opercoes\n",
        "    model =  tf.keras.Sequential()\n",
        "    # Cria primeira camada da rede neural usando os input Z / layer.dense cria uma rede neural do tipo densa \n",
        "    model.add(tf.keras.layers.Dense(hsize[0], activation=tf.keras.layers.LeakyReLU(),input_shape=(BATCH_SIZE,2)))\n",
        "    # Cria a segunda camada da rede usando o input h1(Z)\n",
        "    model.add( tf.keras.layers.Dense(hsize[1],activation=tf.keras.layers.LeakyReLU()))\n",
        "    model.add( tf.keras.layers.Dense(hsize[1],activation=tf.keras.layers.LeakyReLU()))\n",
        "    # Cria a de saida camada da rede usando o input h2(h1(Z))\n",
        "    model.add(tf.keras.layers.Dense(2))\n",
        "    # Cria a de saida camada da rede usando o input h3(h2(h1(Z)))\n",
        "    model.add(tf.keras.layers.Dense(1))\n",
        "    return model"
      ],
      "execution_count": null,
      "outputs": []
    },
    {
      "cell_type": "code",
      "metadata": {
        "id": "TI1KxyW49JxO"
      },
      "source": [
        "def get_compiled_model(model):\n",
        "    model.compile(\n",
        "        optimizer=\"rmsprop\",\n",
        "        loss=\"sparse_categorical_crossentropy\",\n",
        "        metrics=[\"sparse_categorical_accuracy\"],\n",
        "    )\n",
        "    return model"
      ],
      "execution_count": null,
      "outputs": []
    },
    {
      "cell_type": "code",
      "metadata": {
        "id": "-gXf-Oj1uBJi"
      },
      "source": [
        "gen = get_compiled_model(generator())\n",
        "Z = sample_Z(BATCH_SIZE,2)\n",
        "#print(Z)\n",
        "fake_data = gen(Z, training=False)\n",
        "#print(fake_data)"
      ],
      "execution_count": null,
      "outputs": []
    },
    {
      "cell_type": "code",
      "metadata": {
        "id": "3qeHUbStw8Mc"
      },
      "source": [
        "dis= get_compiled_model(discriminator())\n",
        "decision = dis(fake_data, training=False)\n"
      ],
      "execution_count": null,
      "outputs": []
    },
    {
      "cell_type": "code",
      "metadata": {
        "id": "kVEoGq60zHK0"
      },
      "source": [
        "def discriminator_loss(real_output, fake_output):\n",
        "    real_loss = cross_entropy(tf.ones_like(real_output), real_output)\n",
        "    fake_loss = cross_entropy(tf.zeros_like(fake_output), fake_output)\n",
        "    total_loss = real_loss + fake_loss\n",
        "    return total_loss"
      ],
      "execution_count": null,
      "outputs": []
    },
    {
      "cell_type": "code",
      "metadata": {
        "id": "h10NpJmczdhM"
      },
      "source": [
        "def generator_loss(fake_output):\n",
        "    return cross_entropy(tf.ones_like(fake_output), fake_output)"
      ],
      "execution_count": null,
      "outputs": []
    },
    {
      "cell_type": "code",
      "metadata": {
        "id": "U9B5Aqp-zkzQ"
      },
      "source": [
        "# Otimizador\n",
        "generator_optimizer = tf.keras.optimizers.Adam(1e-3,)\n",
        "#generator_optimizer =tf.keras.optimizers.RMSprop(1e-3)\n",
        "\n",
        "discriminator_optimizer = tf.keras.optimizers.Adam(1e-3)\n",
        "#discriminator_optimizer = tf.keras.optimizers.RMSprop(1e-4)"
      ],
      "execution_count": null,
      "outputs": []
    },
    {
      "cell_type": "code",
      "metadata": {
        "id": "GPbZ9s9v82TZ"
      },
      "source": [
        "epoch_vec=[]\n",
        "cross_entropy = tf.keras.losses.BinaryCrossentropy(from_logits=True)"
      ],
      "execution_count": null,
      "outputs": []
    },
    {
      "cell_type": "code",
      "metadata": {
        "id": "4hbqZ1BcK2mx"
      },
      "source": [
        "@tf.function\n",
        "def train_step(Y):\n",
        "    Z = sample_Z(BATCH_SIZE,2) #\n",
        "    with tf.GradientTape(persistent=True) as tape:\n",
        " #     gen = generator()\n",
        "      fake_data = gen(Z, training=True)  \n",
        "      real_output = dis(Y, training=True)\n",
        "      fake_output = dis(fake_data, training=True)\n",
        "            \n",
        "      gen_loss = generator_loss(fake_output)\n",
        "      disc_loss = discriminator_loss(real_output, fake_output)\n",
        "\n",
        "    #generator_optimizer.minimize(gen_loss)\n",
        "    gradients_of_generator = tape.gradient(gen_loss, gen.trainable_variables)\n",
        "    gradients_of_discriminator = tape.gradient(disc_loss, dis.trainable_variables)\n",
        "    del tape\n",
        "    generator_optimizer.apply_gradients(zip(gradients_of_generator, gen.trainable_variables))\n",
        "    discriminator_optimizer.apply_gradients(zip(gradients_of_discriminator, dis.trainable_variables))\n"
      ],
      "execution_count": null,
      "outputs": []
    },
    {
      "cell_type": "code",
      "metadata": {
        "colab": {
          "base_uri": "https://localhost:8080/"
        },
        "id": "Lt0hc5hYzPbi",
        "outputId": "af14352b-0503-4551-ca5a-3d979980a9c2"
      },
      "source": [
        "epoch_vec = []\n",
        "for x in range(EPOCHS):\n",
        "    Y = sample_data(n= BATCH_SIZE)\n",
        "    Y = tf.convert_to_tensor(Y)\n",
        "    train_step(Y)\n",
        "    if x in [2500,5000,7500,10000]: \n",
        "      epoch_vec.append(gen(Z,training=False))\n",
        "    "
      ],
      "execution_count": null,
      "outputs": [
        {
          "output_type": "stream",
          "text": [
            "WARNING:tensorflow:Model was constructed with shape (None, 512, 2) for input KerasTensor(type_spec=TensorSpec(shape=(None, 512, 2), dtype=tf.float32, name='dense_108_input'), name='dense_108_input', description=\"created by layer 'dense_108_input'\"), but it was called on an input with incompatible shape (512, 2).\n",
            "WARNING:tensorflow:Model was constructed with shape (None, 512, 2) for input KerasTensor(type_spec=TensorSpec(shape=(None, 512, 2), dtype=tf.float32, name='dense_111_input'), name='dense_111_input', description=\"created by layer 'dense_111_input'\"), but it was called on an input with incompatible shape (512, 2).\n",
            "WARNING:tensorflow:Model was constructed with shape (None, 512, 2) for input KerasTensor(type_spec=TensorSpec(shape=(None, 512, 2), dtype=tf.float32, name='dense_111_input'), name='dense_111_input', description=\"created by layer 'dense_111_input'\"), but it was called on an input with incompatible shape (512, 2).\n",
            "WARNING:tensorflow:Model was constructed with shape (None, 512, 2) for input KerasTensor(type_spec=TensorSpec(shape=(None, 512, 2), dtype=tf.float32, name='dense_108_input'), name='dense_108_input', description=\"created by layer 'dense_108_input'\"), but it was called on an input with incompatible shape (512, 2).\n",
            "WARNING:tensorflow:Model was constructed with shape (None, 512, 2) for input KerasTensor(type_spec=TensorSpec(shape=(None, 512, 2), dtype=tf.float32, name='dense_111_input'), name='dense_111_input', description=\"created by layer 'dense_111_input'\"), but it was called on an input with incompatible shape (512, 2).\n",
            "WARNING:tensorflow:Model was constructed with shape (None, 512, 2) for input KerasTensor(type_spec=TensorSpec(shape=(None, 512, 2), dtype=tf.float32, name='dense_111_input'), name='dense_111_input', description=\"created by layer 'dense_111_input'\"), but it was called on an input with incompatible shape (512, 2).\n"
          ],
          "name": "stdout"
        }
      ]
    },
    {
      "cell_type": "code",
      "metadata": {
        "colab": {
          "base_uri": "https://localhost:8080/"
        },
        "id": "uNHruXvwLUjZ",
        "outputId": "582bad83-be63-471e-dd71-e0855d0eb252"
      },
      "source": [
        "Z = sample_Z(BATCH_SIZE,2)\n",
        "GZ = gen(Z,training=False)\n",
        "x_plot = sample_data(n=BATCH_SIZE)\n",
        "len(x_plot)"
      ],
      "execution_count": null,
      "outputs": [
        {
          "output_type": "execute_result",
          "data": {
            "text/plain": [
              "512"
            ]
          },
          "metadata": {
            "tags": []
          },
          "execution_count": 261
        }
      ]
    },
    {
      "cell_type": "code",
      "metadata": {
        "colab": {
          "base_uri": "https://localhost:8080/",
          "height": 265
        },
        "id": "dUvYM3QKNGem",
        "outputId": "9332e73f-573f-46d2-ab71-454db104bf12"
      },
      "source": [
        "plt.figure()\n",
        "xax = plt.scatter(x_plot[:,0], x_plot[:,1])\n",
        "gax = plt.scatter(GZ[:,0],GZ[:,1],c='#e377c2')"
      ],
      "execution_count": null,
      "outputs": [
        {
          "output_type": "display_data",
          "data": {
            "image/png": "[encoded data removed]",
            "text/plain": [
              "<Figure size 432x288 with 1 Axes>"
            ]
          },
          "metadata": {
            "tags": [],
            "needs_background": "light"
          }
        }
      ]
    }
  ]
}